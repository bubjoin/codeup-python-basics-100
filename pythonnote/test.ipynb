{
 "cells": [
  {
   "cell_type": "code",
   "execution_count": 1,
   "metadata": {},
   "outputs": [
    {
     "name": "stdout",
     "output_type": "stream",
     "text": [
      "3\n"
     ]
    }
   ],
   "source": [
    "a = 1\n",
    "b = 2\n",
    "c = a+b\n",
    "print(c)"
   ]
  },
  {
   "cell_type": "code",
   "execution_count": 27,
   "metadata": {},
   "outputs": [
    {
     "name": "stdout",
     "output_type": "stream",
     "text": [
      "0.12399959564208984\n"
     ]
    }
   ],
   "source": [
    "# The reason why you should decrease if in while statement\n",
    "# as much as possible\n",
    "import time\n",
    "start = time.time()\n",
    "n = 1000000\n",
    "i = 0\n",
    "while True:\n",
    "    if n < 1000001: # 0.109 VS 0.089\n",
    "        if n == 1000000:\n",
    "            pass # 0.133\n",
    "        else:\n",
    "            if (n-i) > 0: # 0.160\n",
    "                pass\n",
    "    if n > 0:  # 0.089 VS 0.067\n",
    "        pass\n",
    "    if n > i: # 0.067\n",
    "        pass\n",
    "    else:\n",
    "        break\n",
    "    i += 1\n",
    "end = time.time()\n",
    "print(end-start)"
   ]
  },
  {
   "cell_type": "code",
   "execution_count": null,
   "metadata": {},
   "outputs": [],
   "source": []
  }
 ],
 "metadata": {
  "interpreter": {
   "hash": "a151e2a8188805eef091c3cbf1a240a13f8b860a5014a9900644ab4295e81047"
  },
  "kernelspec": {
   "display_name": "Python 3.9.0 64-bit ('.venv': venv)",
   "language": "python",
   "name": "python3"
  },
  "language_info": {
   "codemirror_mode": {
    "name": "ipython",
    "version": 3
   },
   "file_extension": ".py",
   "mimetype": "text/x-python",
   "name": "python",
   "nbconvert_exporter": "python",
   "pygments_lexer": "ipython3",
   "version": "3.9.0"
  },
  "orig_nbformat": 4
 },
 "nbformat": 4,
 "nbformat_minor": 2
}
